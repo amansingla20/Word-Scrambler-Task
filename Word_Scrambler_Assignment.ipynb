{
  "nbformat": 4,
  "nbformat_minor": 0,
  "metadata": {
    "colab": {
      "provenance": [],
      "collapsed_sections": []
    },
    "kernelspec": {
      "name": "python3",
      "display_name": "Python 3"
    },
    "language_info": {
      "name": "python"
    }
  },
  "cells": [
    {
      "cell_type": "markdown",
      "source": [
        "**WORD SCRAMBLER**"
      ],
      "metadata": {
        "id": "K7FrEcVy0jOv"
      }
    },
    {
      "cell_type": "markdown",
      "source": [
        "Make a word scrambler program to scramble every word in the file. Scrambling the word means \"keeping first and last letter intact and scramble all other letters randomly\". For example, if following is written in file: \n",
        "\" This is a new word scrambler program. \"  Then \n",
        "this will be changed to : \n",
        "\"Tihs is a new wrod srcelabmr pograrm.\" \n",
        "Punctuation marks won't change their position."
      ],
      "metadata": {
        "id": "nvoDKuFnSBNB"
      }
    },
    {
      "cell_type": "markdown",
      "source": [
        "Solution:"
      ],
      "metadata": {
        "id": "AUQlfeJE0dox"
      }
    },
    {
      "cell_type": "code",
      "execution_count": 1,
      "metadata": {
        "colab": {
          "base_uri": "https://localhost:8080/"
        },
        "id": "UU6IzBx90E-B",
        "outputId": "1695cb16-9dd8-42e0-8ad7-cfe515cfb1e7"
      },
      "outputs": [
        {
          "output_type": "stream",
          "name": "stdout",
          "text": [
            "Enter your word: This is a new word scrambler program.\n",
            "Tihs is a new word sreclmbar porgarm. \n"
          ]
        }
      ],
      "source": [
        "import random\n",
        "\n",
        "# Define Punctutaion additon program which will add punctuation on their respective positions itself without any position alteration....\n",
        "\n",
        "def punc_add(word,original_word):\n",
        "    new_word = [char for char in word]\n",
        "    for i in range(0,len(original_word)):\n",
        "         if original_word[i].isalpha() != True:\n",
        "            new_word.insert(i,original_word[i])\n",
        "    return \"\".join(new_word)\n",
        "\n",
        "# Define Punctuation removal program which will add all the characters of the words except for punctuations...     \n",
        "\n",
        "def punc_remove(word):\n",
        "    new_word = \"\"\n",
        "    for char in word:\n",
        "        if char.isalpha():\n",
        "            new_word += char\n",
        "    return new_word\n",
        "\n",
        "# Define word scrambler program which will scramble all the words greater than length greater tthan 3 or else will add the exact word itself...    \n",
        "\n",
        "def word_scrambler(word):\n",
        "    if len(word) > 3:\n",
        "     scramble_word = word[1:-1]\n",
        "     scramble_word = random.sample(scramble_word, len(scramble_word))\n",
        "     scramble_word.insert(0,word[0])\n",
        "     scramble_word.append(word[-1])\n",
        "     return scramble_word\n",
        "    else:\n",
        "     return word\n",
        "\n",
        "#Taje input from user...\n",
        "\n",
        "original_txt= input(\"Enter your word: \")\n",
        "scrambled_text=\"\"\n",
        "\n",
        "for word in original_txt.split():\n",
        "  new_word = punc_add(word_scrambler(punc_remove(word)),word)\n",
        "  scrambled_text += new_word + \" \"\n",
        "  pass\n",
        "\n",
        "print(scrambled_text)"
      ]
    }
  ]
}